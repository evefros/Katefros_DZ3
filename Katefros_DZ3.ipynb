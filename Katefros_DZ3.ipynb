{
 "cells": [
  {
   "cell_type": "code",
   "execution_count": 1,
   "metadata": {},
   "outputs": [
    {
     "name": "stdout",
     "output_type": "stream",
     "text": [
      "{98, 35, 15, 213, 54, 119}\n"
     ]
    }
   ],
   "source": [
    "# Дана переменная, в которой хранится словарь, содержащий гео-метки\n",
    "# для каждого пользователя (пример структуры данных приведен ниже).\n",
    "# Вам необходимо написать программу, которая выведет на экран множество\n",
    "# уникальных гео-меток всех пользователей.\n",
    " \n",
    "ids = {'user1': [213, 213, 213, 15, 213],\n",
    "       'user2': [54, 54, 119, 119, 119],\n",
    "       'user3': [213, 98, 98, 35]}\n",
    " \n",
    "results = []\n",
    "for i in ids.values():\n",
    "    for number in i:\n",
    "        results.append(number)\n",
    "print(set(results))"
   ]
  },
  {
   "cell_type": "code",
   "execution_count": 4,
   "metadata": {},
   "outputs": [
    {
     "name": "stdout",
     "output_type": "stream",
     "text": [
      "Поисковых запросов из 3 слов(a): 50.0%\n",
      "Поисковых запросов из 2 слов(a): 37.5%\n",
      "Поисковых запросов из 5 слов(a): 12.5%\n"
     ]
    }
   ],
   "source": [
    "# Дана переменная, в которой хранится список поисковых запросов\n",
    "# пользователя (пример структуры данных приведен ниже).\n",
    "# Вам необходимо написать программу, которая выведет на экран\n",
    "# распределение количества слов в запросах в требуемом виде.\n",
    " \n",
    "queries = [\n",
    "    'смотреть сериалы онлайн',\n",
    "    'новости спорта',\n",
    "    'афиша кино',\n",
    "    'курс доллара',\n",
    "    'сериалы этим летом',\n",
    "    'курс по питону',\n",
    "    'сериалы про спорт',\n",
    "    'фильм про дружбу и любовь',\n",
    "]\n",
    " \n",
    "dictionary = {}\n",
    " \n",
    "for item in queries:\n",
    "    count_words = item.split()\n",
    "   \n",
    "    if len(count_words) in dictionary.keys():\n",
    "        dictionary[len(count_words)] += 1\n",
    "    else:\n",
    "        dictionary.update({len(count_words): 1})\n",
    "for key, value in dictionary.items():\n",
    "    percent = round((value / len(queries)) * 100,2)\n",
    "    print(f'Поисковых запросов из {key} слов(a): {percent}%')"
   ]
  },
  {
   "cell_type": "code",
   "execution_count": 7,
   "metadata": {},
   "outputs": [
    {
     "name": "stdout",
     "output_type": "stream",
     "text": [
      "vk {'revenue': 103, 'cost': 98, 'ROI': 5.1}\n",
      "yandex {'revenue': 179, 'cost': 153, 'ROI': 16.99}\n",
      "facebook {'revenue': 103, 'cost': 110, 'ROI': -6.36}\n",
      "adwords {'revenue': 35, 'cost': 34, 'ROI': 2.94}\n",
      "twitter {'revenue': 11, 'cost': 24, 'ROI': -54.17}\n"
     ]
    }
   ],
   "source": [
    "# Дана переменная, в которой хранится информация о затратах и\n",
    "# доходе рекламных кампаний по различным источникам.\n",
    "# Необходимо дополнить исходную структуру показателем ROI,\n",
    "# который рассчитаем по формуле: (revenue / cost - 1) * 100\n",
    " \n",
    "results = {\n",
    "    'vk': {'revenue': 103, 'cost': 98},\n",
    "    'yandex': {'revenue': 179, 'cost': 153},\n",
    "    'facebook': {'revenue': 103, 'cost': 110},\n",
    "    'adwords': {'revenue': 35, 'cost': 34},\n",
    "    'twitter': {'revenue': 11, 'cost': 24},\n",
    "}\n",
    " \n",
    "for key, value in results.items():\n",
    "    value['ROI'] = round(((value['revenue'] / value['cost']) - 1)*100 , 2)\n",
    "    print(key, value)"
   ]
  },
  {
   "cell_type": "code",
   "execution_count": 8,
   "metadata": {},
   "outputs": [
    {
     "name": "stdout",
     "output_type": "stream",
     "text": [
      "vk\n"
     ]
    }
   ],
   "source": [
    "# Дана переменная, в которой хранится статистика рекламных каналов\n",
    "# по объемам продаж (пример структуры данных приведен ниже).\n",
    "# Напишите программу, которая возвращает название канала\n",
    "# с максимальным объемом продаж.\n",
    " \n",
    "stats = {'facebook': 55, 'yandex': 115, 'vk': 120, 'google': 99, 'email': 42, 'ok': 98}\n",
    " \n",
    "max_value = max(stats.values())\n",
    "a = int(max_value)\n",
    " \n",
    "b = list(stats.values())\n",
    "c = list(stats.keys())\n",
    " \n",
    "for i in range(0,len(b)):\n",
    "    if b[i] == a:\n",
    "        print(c[i])"
   ]
  },
  {
   "cell_type": "code",
   "execution_count": 9,
   "metadata": {},
   "outputs": [
    {
     "name": "stdout",
     "output_type": "stream",
     "text": [
      "{'a': {'b': {'c': {'d': {'e': 'f'}}}}}\n"
     ]
    }
   ],
   "source": [
    "# Дан список произвольной длины. Необходимо написать код,\n",
    "# который на основе исходного списка составит словарь такого уровня вложенности,\n",
    "# какова длина исхондого списка.\n",
    " \n",
    "my_list = ['a', 'b', 'c', 'd', 'e', 'f']\n",
    " \n",
    "y = {my_list[-2]: my_list[-1]}\n",
    "for i in my_list[:-2][::-1]:\n",
    "    y = {i: y}\n",
    "print(y)"
   ]
  }
 ],
 "metadata": {
  "kernelspec": {
   "display_name": "Python 3",
   "language": "python",
   "name": "python3"
  },
  "language_info": {
   "codemirror_mode": {
    "name": "ipython",
    "version": 3
   },
   "file_extension": ".py",
   "mimetype": "text/x-python",
   "name": "python",
   "nbconvert_exporter": "python",
   "pygments_lexer": "ipython3",
   "version": "3.8.5"
  }
 },
 "nbformat": 4,
 "nbformat_minor": 4
}
